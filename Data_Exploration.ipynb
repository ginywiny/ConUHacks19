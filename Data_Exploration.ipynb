{
 "cells": [
  {
   "cell_type": "code",
   "execution_count": 54,
   "metadata": {
    "scrolled": false
   },
   "outputs": [],
   "source": [
    "import urllib\n",
    "import time\n",
    "import re\n",
    "\n",
    "offset = '1'\n",
    "base_url = 'https://conuhacks-playback-api.touchtunes.com/plays?'\n",
    "\n",
    "get_data = False\n",
    "\n",
    "if get_data:\n",
    "    with open('plays_data.json', 'w') as fd:\n",
    "        fd.write('{\"plays\":[')\n",
    "\n",
    "        for month in range(1, 13):\n",
    "            for day in range(1, 28):\n",
    "\n",
    "                start_date = '2018-' + str(month).zfill(2) + '-' + str(day).zfill(2) + 'T' + '12:00:00Z'\n",
    "                end_date = '2018-' + str(month).zfill(2) + '-' + str(day + 1).zfill(2) + 'T' + '23:00:00Z'\n",
    "                url= base_url + 'startDate=' + start_date + '&endDate=' + end_date + '&offset=' + offset\n",
    "\n",
    "                headers = {}\n",
    "                headers['client-secret'] = '9923ac9b-8fd3-421f-b0e5-952f807c6885'\n",
    "\n",
    "                request = urllib.request.Request(url, headers=headers)            \n",
    "                response = urllib.request.urlopen(request)\n",
    "\n",
    "                replaced = re.sub('{\"plays\":\\[', '', response.read().decode('utf-8'))\n",
    "                replaced = re.sub('\\]}', '', replaced) + ','\n",
    "\n",
    "                fd.write(replaced)\n",
    "\n",
    "        fd.write(']}')"
   ]
  },
  {
   "cell_type": "code",
   "execution_count": 1,
   "metadata": {},
   "outputs": [],
   "source": [
    "import json\n",
    "import pandas as pd"
   ]
  },
  {
   "cell_type": "code",
   "execution_count": 2,
   "metadata": {},
   "outputs": [],
   "source": [
    "with open('plays_data_min.json') as fd:\n",
    "    plays_data = pd.DataFrame(json.load(fd))"
   ]
  },
  {
   "cell_type": "code",
   "execution_count": 3,
   "metadata": {},
   "outputs": [
    {
     "data": {
      "text/html": [
       "<div>\n",
       "<style scoped>\n",
       "    .dataframe tbody tr th:only-of-type {\n",
       "        vertical-align: middle;\n",
       "    }\n",
       "\n",
       "    .dataframe tbody tr th {\n",
       "        vertical-align: top;\n",
       "    }\n",
       "\n",
       "    .dataframe thead th {\n",
       "        text-align: right;\n",
       "    }\n",
       "</style>\n",
       "<table border=\"1\" class=\"dataframe\">\n",
       "  <thead>\n",
       "    <tr style=\"text-align: right;\">\n",
       "      <th></th>\n",
       "      <th>artistId</th>\n",
       "      <th>latitude</th>\n",
       "      <th>longitude</th>\n",
       "      <th>playDate</th>\n",
       "      <th>songId</th>\n",
       "      <th>state</th>\n",
       "      <th>style</th>\n",
       "    </tr>\n",
       "  </thead>\n",
       "  <tbody>\n",
       "    <tr>\n",
       "      <th>0</th>\n",
       "      <td>1025</td>\n",
       "      <td>40.143005</td>\n",
       "      <td>-74.73112</td>\n",
       "      <td>2018-01-01T12:00:00.000+0000</td>\n",
       "      <td>32601201</td>\n",
       "      <td>NJ</td>\n",
       "      <td>ROCK</td>\n",
       "    </tr>\n",
       "    <tr>\n",
       "      <th>1</th>\n",
       "      <td>1025</td>\n",
       "      <td>40.143005</td>\n",
       "      <td>-74.73112</td>\n",
       "      <td>2018-01-01T12:00:00.000+0000</td>\n",
       "      <td>32601201</td>\n",
       "      <td>NJ</td>\n",
       "      <td>ROCK</td>\n",
       "    </tr>\n",
       "    <tr>\n",
       "      <th>2</th>\n",
       "      <td>134</td>\n",
       "      <td>44.943560</td>\n",
       "      <td>-86.41580</td>\n",
       "      <td>2018-01-01T12:00:01.000+0000</td>\n",
       "      <td>59036603</td>\n",
       "      <td>MI</td>\n",
       "      <td>ROCK - CLASSIC ROCK</td>\n",
       "    </tr>\n",
       "    <tr>\n",
       "      <th>3</th>\n",
       "      <td>134</td>\n",
       "      <td>44.943560</td>\n",
       "      <td>-86.41580</td>\n",
       "      <td>2018-01-01T12:00:01.000+0000</td>\n",
       "      <td>59036603</td>\n",
       "      <td>MI</td>\n",
       "      <td>ROCK - CLASSIC ROCK</td>\n",
       "    </tr>\n",
       "    <tr>\n",
       "      <th>4</th>\n",
       "      <td>134</td>\n",
       "      <td>44.943560</td>\n",
       "      <td>-86.41580</td>\n",
       "      <td>2018-01-01T12:00:01.000+0000</td>\n",
       "      <td>59036603</td>\n",
       "      <td>MI</td>\n",
       "      <td>ROCK - CLASSIC ROCK</td>\n",
       "    </tr>\n",
       "  </tbody>\n",
       "</table>\n",
       "</div>"
      ],
      "text/plain": [
       "   artistId   latitude  longitude                      playDate    songId  \\\n",
       "0      1025  40.143005  -74.73112  2018-01-01T12:00:00.000+0000  32601201   \n",
       "1      1025  40.143005  -74.73112  2018-01-01T12:00:00.000+0000  32601201   \n",
       "2       134  44.943560  -86.41580  2018-01-01T12:00:01.000+0000  59036603   \n",
       "3       134  44.943560  -86.41580  2018-01-01T12:00:01.000+0000  59036603   \n",
       "4       134  44.943560  -86.41580  2018-01-01T12:00:01.000+0000  59036603   \n",
       "\n",
       "  state                style  \n",
       "0    NJ                 ROCK  \n",
       "1    NJ                 ROCK  \n",
       "2    MI  ROCK - CLASSIC ROCK  \n",
       "3    MI  ROCK - CLASSIC ROCK  \n",
       "4    MI  ROCK - CLASSIC ROCK  "
      ]
     },
     "execution_count": 3,
     "metadata": {},
     "output_type": "execute_result"
    }
   ],
   "source": [
    "plays_data.head()"
   ]
  },
  {
   "cell_type": "code",
   "execution_count": 6,
   "metadata": {},
   "outputs": [
    {
     "data": {
      "text/plain": [
       "array(['ROCK', 'ROCK - CLASSIC ROCK', 'POP', 'COUNTRY', 'R&B - SOUL',\n",
       "       'ROCK - HARD ROCK', 'ALT - ROCK', 'REGGAE', 'RAP - HIP-HOP',\n",
       "       'ALT - INDIE ROCK', 'ALT - NEW WAVE', 'ROCK - SOUTHERN ROCK',\n",
       "       'ALT - GRUNGE', 'COUNTRY - BLUEGRASS', 'JAZZ', 'ELECTRO - DANCE',\n",
       "       'ROCK - ROCK & ROLL', 'R&B - URBAN', 'POP ROCK', 'LATIN - POP',\n",
       "       'LATIN - REG MEX - NORTENO', 'VOCAL POP', 'COUNTRY - COUNTRY ROCK',\n",
       "       'COUNTRY - POP', 'POP - DISCO', 'ALT - METAL',\n",
       "       'LATIN - REGIONAL MEXICAN', 'BLUES', 'RAP - GANGSTA', 'ELECTRONIC',\n",
       "       'ALT - INDIE FOLK', 'BLUES ROCK', 'FOLK', 'ELECTRO - HOUSE',\n",
       "       'ALT - INDIE POP', 'ROCK - BRIT INVASION', 'ALT - BRIT POP',\n",
       "       'JAZZ - LOUNGE', 'ROCK - ROOTS ROCK', 'LATIN - URBANO',\n",
       "       'SOUNDTRACKS', 'JAZZ - CROSSOVER', 'ROCK - PSYCHEDELIC',\n",
       "       'R&B - OLDIES', 'CLASSICAL', 'FOLK - FOLK ROCK', 'R&B - GOSPEL',\n",
       "       'POP - RAP', 'R&B - FUNK', 'LATIN - REG MEX - TEJANO',\n",
       "       'COUNTRY - CONTEMPORARY', 'LATIN - URBANO - MERENGUE',\n",
       "       'LATIN - REG MEX - BANDA', 'PUNK - POP', 'JAZZ - BIG BAND / SWING',\n",
       "       'COMEDY', 'R&B - QUIETSTORM', 'ALTERNATIVE', 'PUNK - PUNKROCK',\n",
       "       'PUNK - HARDCORE', 'LATIN - URBANO - REGGAETON', 'REGGAE - SKA',\n",
       "       'ROCK - AMERICANA', 'LATIN - REG MEX - RANCHERA', 'PUNK - SCREAMO',\n",
       "       'R&B - NEW ORLEANS', 'ROCK - ADULT CONTEMPORARY',\n",
       "       'ROCK - PROG ROCK', 'R&B - DOO WOP', 'HEAVY METAL', 'PUNK - EMO',\n",
       "       'WORLD - IRISH', 'RAP - ALTERNATIVE', 'ALT - INDUSTRIAL',\n",
       "       'ELECTRO - TRIP HOP', 'LATIN - TROPICAL - SALSA', 'LATIN - ROCK',\n",
       "       'IRISH ROCK', 'SINGER SONGWRITER', 'LATIN - REG MEX - CORRIDO',\n",
       "       'RAP - OLD SCHOOL', 'LATIN - REG MEX - CUMBIA',\n",
       "       'LATIN - ELECTRONICA', 'ROCK - CHRISTIAN', 'POP - CHRISTIAN',\n",
       "       'COUNTRY - XMAS', 'LATIN - REG MEX - DURANGUENSE', 'POP - CHRISTMAS'], dtype=object)"
      ]
     },
     "execution_count": 6,
     "metadata": {},
     "output_type": "execute_result"
    }
   ],
   "source": [
    "plays_data['style'].unique()"
   ]
  }
 ],
 "metadata": {
  "kernelspec": {
   "display_name": "Python 3",
   "language": "python",
   "name": "python3"
  },
  "language_info": {
   "codemirror_mode": {
    "name": "ipython",
    "version": 3
   },
   "file_extension": ".py",
   "mimetype": "text/x-python",
   "name": "python",
   "nbconvert_exporter": "python",
   "pygments_lexer": "ipython3",
   "version": "3.6.6"
  }
 },
 "nbformat": 4,
 "nbformat_minor": 2
}
